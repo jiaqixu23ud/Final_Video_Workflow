{
 "cells": [
  {
   "cell_type": "markdown",
   "id": "eb8bb841",
   "metadata": {},
   "source": [
    "## Install EbookLib"
   ]
  },
  {
   "cell_type": "code",
   "execution_count": 1,
   "id": "44a40ba3",
   "metadata": {},
   "outputs": [
    {
     "name": "stdout",
     "output_type": "stream",
     "text": [
      "Requirement already satisfied: PyPDF2 in f:\\anaconda\\envs\\py38\\lib\\site-packages (3.0.1)\n",
      "Requirement already satisfied: typing_extensions>=3.10.0.0 in f:\\anaconda\\envs\\py38\\lib\\site-packages (from PyPDF2) (4.8.0)\n"
     ]
    },
    {
     "name": "stderr",
     "output_type": "stream",
     "text": [
      "WARNING: Ignoring invalid distribution - (f:\\anaconda\\envs\\py38\\lib\\site-packages)\n",
      "WARNING: Ignoring invalid distribution -illow (f:\\anaconda\\envs\\py38\\lib\\site-packages)\n",
      "WARNING: Ignoring invalid distribution - (f:\\anaconda\\envs\\py38\\lib\\site-packages)\n",
      "WARNING: Ignoring invalid distribution -illow (f:\\anaconda\\envs\\py38\\lib\\site-packages)\n"
     ]
    },
    {
     "name": "stdout",
     "output_type": "stream",
     "text": [
      "Requirement already satisfied: pymupdf in f:\\anaconda\\envs\\py38\\lib\\site-packages (1.23.7)\n",
      "Requirement already satisfied: PyMuPDFb==1.23.7 in f:\\anaconda\\envs\\py38\\lib\\site-packages (from pymupdf) (1.23.7)\n"
     ]
    },
    {
     "name": "stderr",
     "output_type": "stream",
     "text": [
      "WARNING: Ignoring invalid distribution - (f:\\anaconda\\envs\\py38\\lib\\site-packages)\n",
      "WARNING: Ignoring invalid distribution -illow (f:\\anaconda\\envs\\py38\\lib\\site-packages)\n",
      "WARNING: Ignoring invalid distribution - (f:\\anaconda\\envs\\py38\\lib\\site-packages)\n",
      "WARNING: Ignoring invalid distribution -illow (f:\\anaconda\\envs\\py38\\lib\\site-packages)\n"
     ]
    },
    {
     "name": "stdout",
     "output_type": "stream",
     "text": [
      "Requirement already satisfied: ebooklib in f:\\anaconda\\envs\\py38\\lib\\site-packages (0.18)\n",
      "Requirement already satisfied: lxml in f:\\anaconda\\envs\\py38\\lib\\site-packages (from ebooklib) (4.9.3)\n",
      "Requirement already satisfied: six in f:\\anaconda\\envs\\py38\\lib\\site-packages (from ebooklib) (1.16.0)\n"
     ]
    },
    {
     "name": "stderr",
     "output_type": "stream",
     "text": [
      "WARNING: Ignoring invalid distribution - (f:\\anaconda\\envs\\py38\\lib\\site-packages)\n",
      "WARNING: Ignoring invalid distribution -illow (f:\\anaconda\\envs\\py38\\lib\\site-packages)\n",
      "WARNING: Ignoring invalid distribution - (f:\\anaconda\\envs\\py38\\lib\\site-packages)\n",
      "WARNING: Ignoring invalid distribution -illow (f:\\anaconda\\envs\\py38\\lib\\site-packages)\n"
     ]
    }
   ],
   "source": [
    "!pip install PyPDF2\n",
    "!pip install --upgrade pymupdf\n",
    "!pip install ebooklib"
   ]
  },
  {
   "cell_type": "code",
   "execution_count": 2,
   "id": "c8c7a726",
   "metadata": {},
   "outputs": [],
   "source": [
    "import ebooklib\n",
    "from ebooklib import epub\n",
    "import re\n",
    "import os"
   ]
  },
  {
   "cell_type": "markdown",
   "id": "ee77fc06",
   "metadata": {},
   "source": [
    "## Install LyricGenius"
   ]
  },
  {
   "cell_type": "markdown",
   "id": "2bbad1a4",
   "metadata": {},
   "source": [
    "## Test: Get the lyrics of a specific song"
   ]
  },
  {
   "cell_type": "code",
   "execution_count": 16,
   "id": "802cd066",
   "metadata": {},
   "outputs": [
    {
     "name": "stdout",
     "output_type": "stream",
     "text": [
      "Searching for \"Got a Lotta Love\" by The Cactus Blossoms...\n",
      "Done.\n",
      "\n",
      "3 ContributorsGot a Lotta Love Lyrics[Verse 1]\n",
      "If you don't want me, you can't have me\n",
      "I'm not the kind of guy who likes to hang around\n",
      "If you can't trust me, walk right past me\n",
      "That doesn't mean that I wouldn't settle down\n",
      "\n",
      "[Chorus]\n",
      "'Cause I got a lotta love\n",
      "Got a lotta love\n",
      "Got a lotta love to give\n",
      "Got a lotta love\n",
      "Got a lotta love\n",
      "Got a lotta love to give\n",
      "\n",
      "[Verse 2]\n",
      "Do you remember when we first met?\n",
      "Can we make it feel the way it back then?\n",
      "It was real love, I didn't dream it\n",
      "All I know is that I want it back again\n",
      "\n",
      "[Chorus]\n",
      "'Cause I got a lotta love\n",
      "Got a lotta love\n",
      "Got a lotta love to give\n",
      "Got a lotta love\n",
      "Got a lotta love\n",
      "Got a lotta love to give\n",
      "You might also like[Instrumental Break]\n",
      "\n",
      "[Chorus]\n",
      "'Cause I got a lotta love\n",
      "Got a lotta love\n",
      "Got a lotta love to give\n",
      "Got a lotta love\n",
      "Got a lotta love\n",
      "Got a lotta love to giveEmbed\n"
     ]
    }
   ],
   "source": [
    "import lyricsgenius\n",
    "\n",
    "genius = lyricsgenius.Genius(\"bSJj7taVnRN-aF-ZM-L8MsC0c-Rz0ZD0hkkKhOMd4miTfI7t_deiUAeQ8pWD1mGk\")\n",
    "\n",
    "song = genius.search_song(\"Got a Lotta Love\", artist=\"The Cactus Blossoms\")\n",
    "\n",
    "if song:\n",
    "    print(f\"\\n{song.lyrics}\")\n",
    "else:\n",
    "    print(\"Song not found.\")"
   ]
  },
  {
   "cell_type": "markdown",
   "id": "78e9c865",
   "metadata": {},
   "source": [
    "## Using LyricGenius to get the song lyrics, and then save'em into EPUB. To avoid timeout I only process 5 song lyrics at one time."
   ]
  },
  {
   "cell_type": "code",
   "execution_count": 19,
   "id": "bc779388",
   "metadata": {
    "scrolled": true
   },
   "outputs": [
    {
     "name": "stdout",
     "output_type": "stream",
     "text": [
      "Searching for \"Rockit\" by Herbie Hancock...\n",
      "Done.\n",
      "Searching for \"Thriller\" by Michael Jackson...\n",
      "Done.\n",
      "Searching for \"Girls Just Want to Have Fun\" by Cyndi Lauper...\n",
      "Done.\n",
      "Searching for \"Every Breath You Take\" by The Police...\n",
      "Done.\n",
      "Searching for \"Don't Come Around Here No More\" by Tom Petty and the Heartbreakers...\n",
      "Done.\n",
      "EPUB file created successfully.\n"
     ]
    }
   ],
   "source": [
    "import lyricsgenius\n",
    "from ebooklib import epub\n",
    "\n",
    "genius = lyricsgenius.Genius(\"bSJj7taVnRN-aF-ZM-L8MsC0c-Rz0ZD0hkkKhOMd4miTfI7t_deiUAeQ8pWD1mGk\")\n",
    "\n",
    "songs_data = [\n",
    "    {\"artist\": \"Herbie Hancock\", \"title\": \"Rockit\"},\n",
    "    {\"artist\": \"Michael Jackson\", \"title\": \"Thriller\"},\n",
    "    {\"artist\": \"Cyndi Lauper\", \"title\": \"Girls Just Want to Have Fun\"},\n",
    "    {\"artist\": \"The Police\", \"title\": \"Every Breath You Take\"},\n",
    "    {\"artist\": \"Tom Petty and the Heartbreakers\", \"title\": \"Don't Come Around Here No More\"},\n",
    "]\n",
    "\n",
    "book = epub.EpubBook()\n",
    "book.set_title(\"Song Lyrics Collection\")\n",
    "\n",
    "\n",
    "book.add_metadata(\"DC\", \"creator\", \"Various Artists\")\n",
    "\n",
    "for song_data in songs_data:\n",
    "    artist = song_data[\"artist\"]\n",
    "    title = song_data[\"title\"]\n",
    "\n",
    "    song = genius.search_song(title, artist=artist)\n",
    "\n",
    "    if song:\n",
    "        chapter = epub.EpubHtml(title=f\"{title} by {artist}\", file_name=f'{title.replace(\" \", \"_\")}.xhtml', lang='en')\n",
    "        chapter.content = f'<h1>Lyrics for \"{title}\" by {artist}</h1><p>{song.lyrics}</p>'\n",
    "        book.add_item(chapter)\n",
    "        book.toc.append(chapter)\n",
    "\n",
    "    else:\n",
    "        print(f\"Song '{title}' by {artist} not found.\")\n",
    "\n",
    "book.add_item(epub.EpubNcx())\n",
    "book.add_item(epub.EpubNav())\n",
    "book.spine = book.toc\n",
    "\n",
    "epub.write_epub('D:\\\\DATABASE\\\\Lyrics_in_EPUB\\\\song_lyrics_collection.epub', book, {})\n",
    "print(\"EPUB file created successfully.\")"
   ]
  },
  {
   "cell_type": "markdown",
   "id": "b4c641a6",
   "metadata": {},
   "source": [
    "## Process the EPUB file: Removing useless elements"
   ]
  },
  {
   "cell_type": "code",
   "execution_count": 27,
   "id": "3004866d",
   "metadata": {},
   "outputs": [],
   "source": [
    "import re\n",
    "import ebooklib\n",
    "from ebooklib import epub\n",
    "\n",
    "def read_epub_book(epub_file, ID):\n",
    "    full_path = f'D:\\\\DATABASE\\\\Lyrics_in_EPUB\\\\{epub_file}'\n",
    "    book = epub.read_epub(full_path)\n",
    "    text = \"\"\n",
    "\n",
    "    for item in book.get_items():\n",
    "        if item.get_type() == ebooklib.ITEM_DOCUMENT:\n",
    "            content = item.get_content().decode('utf-8')\n",
    "            content = re.sub('<[^<]+?>', '', content)\n",
    "            content = re.sub('\\s+', ' ', content)\n",
    "            content = re.sub('\\n', ' ', content)\n",
    "            content = re.sub(\"&#13;\", ' ', content)\n",
    "            content = re.sub(r'Verse 1|Verse 2|Verse 3|Verse 4|Verse 5|Chorus|Bridge|Post-Chorus|Pre-Chorus|Lyrics|Intro|Outro|Contributors|Translations|Português|Deutsch|Español|Ελληνικά', '', content)\n",
    "            content = re.sub(r'[^\\w\\s\\']', '', content)\n",
    "            content = content.replace(\"\\\\\", \"\").replace(\"/\", \"\")\n",
    "            content = content.replace(\"\\'\", \"'\")\n",
    "            content = re.sub(r'\\d+', '', content)\n",
    "            text += content\n",
    "\n",
    "    book_item = {'text': text, 'bookID': ID}\n",
    "    return book_item"
   ]
  },
  {
   "cell_type": "code",
   "execution_count": 28,
   "id": "3c09b308",
   "metadata": {},
   "outputs": [
    {
     "data": {
      "text/plain": [
       "{'text': \"  for Rockit by Herbie Hancock  Rockit Don't stop it Rock it Don't stop itYou might also likeEmbed   for Thriller by Michael Jackson  Thriller  It's close to midnight And something evil's lurking in the dark Under the moonlight You see a sight that almost stops your heart You try to scream But terror takes the sound before you make it You start to freeze As horror looks you right between the eyes You're paralyzed  'Cause this is thriller thriller night And no one's gonna save you From the beast about to strike You know it's thriller thriller night You're fighting for your life inside a killer Thriller tonight yeah Ooh  You hear the door slam And realize there's nowhere left to run You feel the cold hand And wonder if you'll ever see the sun You close your eyes And hope that this is just imagination Girl But all the while You hear a creature creepin up behind You're out of time You might also like 'Cause this is thriller thriller night There ain't no second chance Against the thing with forty eyes girl Thriller Ooh thriller night You're fighting for your life Inside a killer thriller tonight  Night creatures call And the dead start to walk in their masquerade There's no escaping the jaws of the alien this time They're open wide This is the end of your life ooh  They're out to get you There's demons closing in on every side Ooh They will possess you Unless you change that number on your dial Now is the time For you and I to cuddle close together yeah All through the night I'll save you from the terror on the screen I'll make you see  That this is thriller thriller night 'Cause I can thrill you more Than any ghoul would ever dare try Thriller Ooh thriller night So let me hold you tight And share a killer thriller chiller Thriller here tonight 'Cause this is thriller thriller night Girl I can thrill you more Than any ghoul would ever dare try Thriller Ooh thriller night So let me hold you tight And share a killer thriller Ow  Vincent Price amp Michael Jackson I'm gonna thrill you tonight Darkness falls across the land The midnight hour is close at hand Creatures crawl in search of blood To terrorize y'all's neighborhood I'm gonna thrill you tonight And whosoever shall be found Without the soul for getting down Must stand and face the hounds of hell And rot inside a corpse's shell I'm gonna thrill you tonight Thriller ooh babe Thriller I'm gonna thrill you tonight Thriller night Thriller oh darling Oh baby I'm gonna thrill you tonight Thriller Ooh babe Thriller night I'm gonna thrill you tonight Thriller Oh darling Oh baby Thriller night babe Thriller night babe Ooh The foulest stench is in the air The funk of forty thousand years Thriller night thriller And grisly ghouls from every tomb Are closing in to seal your doom And though you fight to stay alive Your body starts to shiver I'm gonna thrill you tonight For no mere mortal can resist The evil of the thrillerEmbed   for Girls Just Want to Have Fun by Cyndi Lauper  Girls Just Want to Have Fun  I come home in the mornin' light My mother says When you gonna live your life right Oh mama dear we're not the fortunate ones And girls they wanna have fun Oh girls just wanna have fun  The phone rings in the middle of the night My father yells What you gonna do with your life Oh daddy dear you know you're still number one But girls they wanna have fun Oh girls just wanna have  That's all they really want Some fun When the workin' day is done Oh girls they wanna have fun Oh girls just wanna have fun  Girls they want wanna have fun Girls wanna have  Some boys take a beautiful girl And hide her away from the rest of the world I wanna be the one to walk in the sun Oh girls they wanna have fun Oh girls just wanna have You might also like That's all they really want Is some fun When the workin' day is done Oh girls they wanna have fun Oh girls just wanna have fun  Girls they want wanna have fun Girls wanna have  They just wanna they just wanna Girls They just wanna they just wanna Girls just wanna have fun Girls just wanna have fun Girls just wanna have fun They just wanna they just wanna They just wanna they just wanna Girls They just wanna they just wanna Girls just wanna have fun Girls girls just wanna have fun When the workin' When the workin' day is done Oh when the workin' day is done Oh girls girls just wanna have fun Everyone They just wanna they just wanna Girls They just wanna they just wanna Girls just wanna have fun Girls girls just wanna have fun They just wanna they just wanna When the workin' When the workin' day is done They just wanna they just wanna Girls Oh when the workin' day is done Oh girls girls just wanna have fun Girls just wanna have fun They just wanna they just wanna They just wannaEmbed   for Every Breath You Take by The Police  Every Breath You Take  Every breath you take And every move you make Every bond you break Every step you take I'll be watching you  Every single day And every word you say Every game you play Every night you stay I'll be watching you  Oh can't you see You belong to me How my poor heart aches With every step you take  Every move you make And every vow you break Every smile you fake Every claim you stake I'll be watching you You might also like Since you've gone I've been lost without a trace I dream at night I can only see your face I look around but it's you I can't replace I feel so cold and I long for your embrace I keep crying baby baby please MiddleEight Mmm mmm mmm mmm Mmm mmm mmm  Oh can't you see You belong to me How my poor heart aches With every step you take  Every move you make And every vow you break Every smile you fake Every claim you stake I'll be watching you Refrain Every move you make Every step you take I'll be watching you  I'll be watching you Every breath you take Every move you make Every bond you break Every step you take I'll be watching you Every single day Every word you say Every game you play Every night you stay I'll be watching you Every move you make Every vow you break Every smile you fake Every claim you stake I'll be watching you Every single day Every word you say Every game you play Every night you stay I'll be watching you Every breath you take Every move you make Every bond you break Every step you take I'll be watching you Every single day Every word you say Every game you play Every night you stay I'll be watching you Every move you make Every vow you break Every smile you fake Every claim you stake I'll be watching you Every single day Every word you say Every game you play Every night you stay I'll be watching you Every move you make Every bond you break Every step you take I'll be watching youEmbed   for Don't Come Around Here No More by Tom Petty and the Heartbreakers  Dont Come Around Here No More  Hey Hey  Don't come around here no more Don't come around here no more Whatever you're looking for Hey Don't come around here no more I've given up stop I've given up stop Ah ah ah oohooh I've given up stop on waiting any longer I've given up on this love getting stronger  Don't come around here no more Don't come around here no more Don't come around here no more Don't come around here no more  I don't feel you anymore You darken my door Whatever you're looking for Hey Don't come around here no more I've given up stop I've given up stop Ah ah ah oohooh I've given up stop you tangle my emotions I've given up honey please admit it's over You might also like Hey Don't come around here no more Don't come around here no more Don't come around here no more Hey Don't come around here no more  Stop walking down my street Don't come around here no more Who did you expect to meet Don't come around here no more Whatever you're looking for Hey Don't come around here no more Hey  Honey please Honey please Don't come around here no more Whatever you're looking for Don't come around here no moreEmbed  Song  Collection Rockit by Herbie Hancock Thriller by Michael Jackson Girls Just Want to Have Fun by Cyndi Lauper Every Breath You Take by The Police Don't Come Around Here No More by Tom Petty and the Heartbreakers \",\n",
       " 'bookID': 1}"
      ]
     },
     "execution_count": 28,
     "metadata": {},
     "output_type": "execute_result"
    }
   ],
   "source": [
    "read_epub_book('song_lyrics_collection.epub',1)"
   ]
  },
  {
   "cell_type": "code",
   "execution_count": null,
   "id": "0b1d31d1",
   "metadata": {},
   "outputs": [],
   "source": []
  }
 ],
 "metadata": {
  "kernelspec": {
   "display_name": "Python 3 (ipykernel)",
   "language": "python",
   "name": "python3"
  },
  "language_info": {
   "codemirror_mode": {
    "name": "ipython",
    "version": 3
   },
   "file_extension": ".py",
   "mimetype": "text/x-python",
   "name": "python",
   "nbconvert_exporter": "python",
   "pygments_lexer": "ipython3",
   "version": "3.8.18"
  }
 },
 "nbformat": 4,
 "nbformat_minor": 5
}
